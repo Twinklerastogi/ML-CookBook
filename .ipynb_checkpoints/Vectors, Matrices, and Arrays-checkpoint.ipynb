{
 "cells": [
  {
   "cell_type": "markdown",
   "metadata": {},
   "source": [
    "# Vectors, Matrices, and Arrays"
   ]
  },
  {
   "cell_type": "markdown",
   "metadata": {},
   "source": [
    "### 1.1. Creating a Vector\n",
    "\n",
    "#### Problem\n",
    "You need to create a vector. \n",
    "\n",
    "#### Solution\n",
    "Use numpy to create a one-dimensional array."
   ]
  },
  {
   "cell_type": "code",
   "execution_count": 6,
   "metadata": {},
   "outputs": [],
   "source": [
    "import numpy as np\n",
    "vector_row = np.array([1,2,3])\n",
    "vector_column = np.array([[1],[2],[3]])"
   ]
  },
  {
   "cell_type": "markdown",
   "metadata": {},
   "source": [
    "### 1.2. Creating a Matrix\n",
    "\n",
    "#### Problem\n",
    "You need to create a matrix. \n",
    "\n",
    "#### Solution\n",
    "Use numpy to create a two-dimensional array."
   ]
  },
  {
   "cell_type": "code",
   "execution_count": 8,
   "metadata": {},
   "outputs": [],
   "source": [
    "matrix = np.array([[1,2],\n",
    "                  [2,3],\n",
    "                  [3,4]])"
   ]
  },
  {
   "cell_type": "code",
   "execution_count": 12,
   "metadata": {},
   "outputs": [],
   "source": [
    "matrix_object = np.mat([[1,2], \n",
    "                        [2,3], \n",
    "                        [3,4]])\n"
   ]
  },
  {
   "cell_type": "markdown",
   "metadata": {},
   "source": [
    "However, the matrix data structure is not recommended because the vast majority of NumPy operations return arrays, not matrix objects.\n"
   ]
  },
  {
   "cell_type": "markdown",
   "metadata": {},
   "source": [
    "### 1.3. Creating a Sparse Matrix\n",
    "\n",
    "#### Problem\n",
    "Given data with very few nonzero values, you want to efficiently represent it. \n",
    " \n",
    "#### Solution\n",
    "Create a Sparse matrix."
   ]
  },
  {
   "cell_type": "code",
   "execution_count": 15,
   "metadata": {},
   "outputs": [],
   "source": [
    "import numpy as np\n",
    "from scipy import sparse\n",
    "\n",
    "matrix = np.array([[0,0],\n",
    "                  [0,1],\n",
    "                  [3,0]])\n",
    "matrix_sparse = sparse.csr_matrix(matrix)"
   ]
  },
  {
   "cell_type": "markdown",
   "metadata": {},
   "source": [
    "Sparse matrices only store nonzero elements and assume all other values will be zero, leading to significant computational savings. In our solution, we created a NumPy array with two nonzero values, then converted it into a sparse matrix. If we view the sparse matrix we can see that only the nonzero values are stored:\n"
   ]
  },
  {
   "cell_type": "code",
   "execution_count": 17,
   "metadata": {},
   "outputs": [
    {
     "name": "stdout",
     "output_type": "stream",
     "text": [
      "  (1, 1)\t1\n",
      "  (2, 0)\t3\n"
     ]
    }
   ],
   "source": [
    "print(matrix_sparse)"
   ]
  },
  {
   "cell_type": "markdown",
   "metadata": {},
   "source": [
    "There are a number of types of sparse matrices. However, in compressed sparse row (CSR) matrices, (1, 1) and (2, 0) represent the (zero-indexed) indices of the nonzero values 1 and 3, respectively.\n",
    "We can see the advantage of sparse matrices if we create a much larger matrix with many more zero elements and then compare this larger matrix with our original sparse matrix:"
   ]
  },
  {
   "cell_type": "code",
   "execution_count": 22,
   "metadata": {},
   "outputs": [],
   "source": [
    "matrix_large = np.array([[0,0,0,0,0,0,0],\n",
    "                        [0,1,0,0,0,0,0],\n",
    "                        [3,0,0,0,0,0,0]])\n",
    "matrix_large_sparse = sparse.csr_matrix(matrix_large) "
   ]
  },
  {
   "cell_type": "code",
   "execution_count": 36,
   "metadata": {},
   "outputs": [
    {
     "name": "stdout",
     "output_type": "stream",
     "text": [
      "  (1, 1)\t1\n",
      "  (2, 0)\t3\n"
     ]
    }
   ],
   "source": [
    "print(matrix_large_sparse)"
   ]
  },
  {
   "cell_type": "code",
   "execution_count": 37,
   "metadata": {},
   "outputs": [
    {
     "name": "stdout",
     "output_type": "stream",
     "text": [
      "  (1, 1)\t1\n",
      "  (2, 0)\t3\n"
     ]
    }
   ],
   "source": [
    "print(matrix_sparse)"
   ]
  },
  {
   "cell_type": "markdown",
   "metadata": {},
   "source": [
    "As we can see, despite the fact that we added many more zero elements in the larger matrix, its sparse representation is exactly the same as our original sparse matrix. That is, the addition of zero elements did not change the size of the sparse matrix."
   ]
  },
  {
   "cell_type": "markdown",
   "metadata": {},
   "source": [
    "### 1.4. Selecting Elements\n",
    "\n",
    "#### Problem\n",
    "You need to select one or more elements in a vector or matrix.\n",
    "\n",
    "#### Solution\n",
    "Numpy array make that easy."
   ]
  },
  {
   "cell_type": "code",
   "execution_count": 42,
   "metadata": {},
   "outputs": [],
   "source": [
    "#row vector\n",
    "vector = np.array([1,2,3,4,7,8])\n",
    "\n",
    "#matrix\n",
    "matrix = np.array([[1,2,3],\n",
    "                  [2,3,4],\n",
    "                  [4,7,8]])"
   ]
  },
  {
   "cell_type": "code",
   "execution_count": 45,
   "metadata": {},
   "outputs": [
    {
     "data": {
      "text/plain": [
       "3"
      ]
     },
     "execution_count": 45,
     "metadata": {},
     "output_type": "execute_result"
    }
   ],
   "source": [
    "vector[2]"
   ]
  },
  {
   "cell_type": "code",
   "execution_count": 46,
   "metadata": {},
   "outputs": [
    {
     "data": {
      "text/plain": [
       "array([1, 2])"
      ]
     },
     "execution_count": 46,
     "metadata": {},
     "output_type": "execute_result"
    }
   ],
   "source": [
    "vector[:2]"
   ]
  },
  {
   "cell_type": "code",
   "execution_count": 44,
   "metadata": {},
   "outputs": [
    {
     "data": {
      "text/plain": [
       "array([4, 7, 8])"
      ]
     },
     "execution_count": 44,
     "metadata": {},
     "output_type": "execute_result"
    }
   ],
   "source": [
    "matrix[2]"
   ]
  },
  {
   "cell_type": "code",
   "execution_count": 47,
   "metadata": {},
   "outputs": [
    {
     "data": {
      "text/plain": [
       "array([[1, 2],\n",
       "       [2, 3]])"
      ]
     },
     "execution_count": 47,
     "metadata": {},
     "output_type": "execute_result"
    }
   ],
   "source": [
    "matrix[:2,:2]"
   ]
  },
  {
   "cell_type": "markdown",
   "metadata": {},
   "source": [
    "### 1.5. Describing a Matrix \n",
    "\n",
    "#### Problem\n",
    "You want to describe the shape, size and dimension of the matrix.\n",
    "\n",
    "#### Solution\n",
    "Use shape, size,and ndim"
   ]
  },
  {
   "cell_type": "code",
   "execution_count": 54,
   "metadata": {},
   "outputs": [
    {
     "name": "stdout",
     "output_type": "stream",
     "text": [
      "(3, 4)\n",
      "12\n",
      "2\n"
     ]
    }
   ],
   "source": [
    "matrix = np.array([[1,2,3,4],\n",
    "         [1,2,3,4],\n",
    "         [4,3,2,1]])\n",
    "\n",
    "#View number of rows and columns\n",
    "print(matrix.shape)\n",
    "\n",
    "#View number of elements (rows*columns)\n",
    "print(matrix.size)\n",
    "\n",
    "#View number of dimensions\n",
    "print(matrix.ndim)"
   ]
  },
  {
   "cell_type": "markdown",
   "metadata": {},
   "source": [
    "### 1.6. Applying Operations to Elements\n",
    "\n",
    "#### Problem\n",
    "You want to apply some function to multiple elements in an array. \n",
    " \n",
    "#### Solution\n",
    "Use numpy's vectorsize"
   ]
  },
  {
   "cell_type": "code",
   "execution_count": 56,
   "metadata": {},
   "outputs": [
    {
     "data": {
      "text/plain": [
       "array([[101, 102, 103],\n",
       "       [104, 105, 106],\n",
       "       [107, 108, 109]])"
      ]
     },
     "execution_count": 56,
     "metadata": {},
     "output_type": "execute_result"
    }
   ],
   "source": [
    "# Create matrix \n",
    "matrix = np.array([[1, 2, 3],\n",
    "                   [4, 5, 6],\n",
    "                   [7, 8, 9]])\n",
    "\n",
    "#create function that adds 100 to something.\n",
    "add_100 = lambda i:i+100\n",
    "\n",
    "#create vectorized function\n",
    "vec_add_100 = np.vectorize(add_100)\n",
    "\n",
    "#Apply function to all elements in matrix\n",
    "vec_add_100(matrix)"
   ]
  },
  {
   "cell_type": "markdown",
   "metadata": {},
   "source": [
    "NumPy’s vectorize class converts a function into a function that can apply to all elements in an array or slice of an array. It’s worth noting that vectorize is essentially a for loop over the elements and does not increase performance. Furthermore, NumPy arrays allow us to perform operations between arrays even if their dimensions are not the same (a process called broadcasting). For example, we can create a much simpler version of our solution using broadcasting"
   ]
  },
  {
   "cell_type": "code",
   "execution_count": 58,
   "metadata": {},
   "outputs": [
    {
     "data": {
      "text/plain": [
       "array([[101, 102, 103],\n",
       "       [104, 105, 106],\n",
       "       [107, 108, 109]])"
      ]
     },
     "execution_count": 58,
     "metadata": {},
     "output_type": "execute_result"
    }
   ],
   "source": [
    "#Add 100 to all elements\n",
    "matrix+100"
   ]
  },
  {
   "cell_type": "markdown",
   "metadata": {},
   "source": [
    "### 1.7. Finding min and max values\n",
    "\n",
    "#### Problem\n",
    "You need to find the max and min value in an array. \n",
    " \n",
    "#### Solution\n",
    "Use numpy's max and min."
   ]
  },
  {
   "cell_type": "code",
   "execution_count": 60,
   "metadata": {},
   "outputs": [
    {
     "name": "stdout",
     "output_type": "stream",
     "text": [
      "1\n",
      "9\n"
     ]
    }
   ],
   "source": [
    "matrix = np.array([[1, 2, 3],                   \n",
    "                   [4, 5, 6],                   \n",
    "                   [7, 8, 9]])\n",
    "print(np.min(matrix))\n",
    "print(np.max(matrix))"
   ]
  },
  {
   "cell_type": "code",
   "execution_count": 61,
   "metadata": {},
   "outputs": [
    {
     "data": {
      "text/plain": [
       "array([7, 8, 9])"
      ]
     },
     "execution_count": 61,
     "metadata": {},
     "output_type": "execute_result"
    }
   ],
   "source": [
    "#Find maximum element in each column\n",
    "np.max(matrix, axis = 0)"
   ]
  },
  {
   "cell_type": "code",
   "execution_count": 62,
   "metadata": {},
   "outputs": [
    {
     "data": {
      "text/plain": [
       "array([1, 4, 7])"
      ]
     },
     "execution_count": 62,
     "metadata": {},
     "output_type": "execute_result"
    }
   ],
   "source": [
    "#Find minimum element in each row\n",
    "np.min(matrix, axis = 1)"
   ]
  },
  {
   "cell_type": "markdown",
   "metadata": {},
   "source": [
    "### 1.8.  Calculating the Average, Variance, and Standard Deviation \n",
    "\n",
    "#### Problem\n",
    "You want to calculate some descriptive statistics about an array.\n",
    " \n",
    "#### Solution\n",
    "Use numpy's mean, var, std."
   ]
  },
  {
   "cell_type": "code",
   "execution_count": 64,
   "metadata": {},
   "outputs": [
    {
     "name": "stdout",
     "output_type": "stream",
     "text": [
      "Mean: 5.0\n",
      "Variance: 6.666666666666667\n",
      "Standard Deviation: 2.581988897471611\n"
     ]
    }
   ],
   "source": [
    "matrix = np.array([[1, 2, 3],                   \n",
    "                   [4, 5, 6],                   \n",
    "                   [7, 8, 9]])\n",
    "print(f'Mean: {np.mean(matrix)}')\n",
    "print(f'Variance: {np.var(matrix)}')\n",
    "print(f'Standard Deviation: {np.std(matrix)}')\n",
    "                  "
   ]
  },
  {
   "cell_type": "markdown",
   "metadata": {},
   "source": [
    "### 1.9. Reshaping Arrays \n",
    "\n",
    "#### Problem\n",
    "You want to change the shape of an array without changing elements.\n",
    " \n",
    "#### Solution\n",
    "Use numpy's reshape."
   ]
  },
  {
   "cell_type": "code",
   "execution_count": 66,
   "metadata": {},
   "outputs": [
    {
     "data": {
      "text/plain": [
       "array([[ 1,  2,  3,  4,  5,  6],\n",
       "       [ 7,  8,  9, 10, 11, 12]])"
      ]
     },
     "execution_count": 66,
     "metadata": {},
     "output_type": "execute_result"
    }
   ],
   "source": [
    "matrix = np.array([[1, 2, 3],                   \n",
    "                   [4, 5, 6],                   \n",
    "                   [7, 8, 9],                   \n",
    "                   [10, 11, 12]])\n",
    "matrix.reshape(2,6)"
   ]
  },
  {
   "cell_type": "markdown",
   "metadata": {},
   "source": [
    "One useful argument in reshape is -1, which effectively means “as many as needed,” so reshape(-1, 1) means one row and as many columns as needed:\n"
   ]
  },
  {
   "cell_type": "code",
   "execution_count": 68,
   "metadata": {},
   "outputs": [
    {
     "data": {
      "text/plain": [
       "array([[ 1,  2,  3,  4,  5,  6,  7,  8,  9, 10, 11, 12]])"
      ]
     },
     "execution_count": 68,
     "metadata": {},
     "output_type": "execute_result"
    }
   ],
   "source": [
    "matrix.reshape(1,-1)"
   ]
  },
  {
   "cell_type": "markdown",
   "metadata": {},
   "source": [
    "Finally, if we provide one integer, reshape will return a 1D array of that length:\n"
   ]
  },
  {
   "cell_type": "code",
   "execution_count": 73,
   "metadata": {},
   "outputs": [
    {
     "data": {
      "text/plain": [
       "array([ 1,  2,  3,  4,  5,  6,  7,  8,  9, 10, 11, 12])"
      ]
     },
     "execution_count": 73,
     "metadata": {},
     "output_type": "execute_result"
    }
   ],
   "source": [
    "matrix.reshape(12)"
   ]
  },
  {
   "cell_type": "markdown",
   "metadata": {},
   "source": [
    "### 1.10 Transposing a Vector or Matrix\n",
    "\n",
    "#### Problem\n",
    "You need to transpose a vector or matrix\n",
    "\n",
    "#### Solution\n",
    "Use the T method"
   ]
  },
  {
   "cell_type": "code",
   "execution_count": 75,
   "metadata": {},
   "outputs": [
    {
     "data": {
      "text/plain": [
       "array([[1, 4, 7],\n",
       "       [2, 5, 8],\n",
       "       [3, 6, 9]])"
      ]
     },
     "execution_count": 75,
     "metadata": {},
     "output_type": "execute_result"
    }
   ],
   "source": [
    "matrix = np.array([[1, 2, 3],                   \n",
    "                   [4, 5, 6],                   \n",
    "                   [7, 8, 9]])\n",
    "matrix.T"
   ]
  },
  {
   "cell_type": "markdown",
   "metadata": {},
   "source": [
    "A vector cannot be transposed because it is just a collection of values. \n",
    "However, it is common to refer to transposing a vector as converting a row vector to a column vector (notice the second pair of brackets) or vice versa:\n"
   ]
  },
  {
   "cell_type": "code",
   "execution_count": 77,
   "metadata": {},
   "outputs": [
    {
     "data": {
      "text/plain": [
       "array([[1],\n",
       "       [2],\n",
       "       [3],\n",
       "       [7],\n",
       "       [8],\n",
       "       [9]])"
      ]
     },
     "execution_count": 77,
     "metadata": {},
     "output_type": "execute_result"
    }
   ],
   "source": [
    "np.array([[1,2,3,7,8,9]]).T"
   ]
  },
  {
   "cell_type": "markdown",
   "metadata": {},
   "source": [
    "### 1.11. Flattening a matrix\n",
    "\n",
    "#### Problem\n",
    "You need to transform a matrix into a 1D array\n",
    "\n",
    "#### Solution \n",
    "Use flatten\n"
   ]
  },
  {
   "cell_type": "code",
   "execution_count": 79,
   "metadata": {},
   "outputs": [
    {
     "data": {
      "text/plain": [
       "array([1, 2, 3, 4, 5, 6, 7, 8, 9])"
      ]
     },
     "execution_count": 79,
     "metadata": {},
     "output_type": "execute_result"
    }
   ],
   "source": [
    "matrix = np.array([[1, 2, 3],                   \n",
    "                   [4, 5, 6],                   \n",
    "                   [7, 8, 9]])\n",
    "matrix.flatten()"
   ]
  },
  {
   "cell_type": "code",
   "execution_count": 80,
   "metadata": {},
   "outputs": [
    {
     "data": {
      "text/plain": [
       "array([[1, 2, 3, 4, 5, 6, 7, 8, 9]])"
      ]
     },
     "execution_count": 80,
     "metadata": {},
     "output_type": "execute_result"
    }
   ],
   "source": [
    "# we can use reshape to create a row vector:\n",
    "matrix.reshape(1,-1)"
   ]
  },
  {
   "cell_type": "markdown",
   "metadata": {},
   "source": [
    "### 1.12. Calculating the Determinant\n",
    "\n",
    "#### Problem\n",
    "You need to know the determinant of a matrix.\n",
    "\n",
    "#### Solution \n",
    "Use Numpy's linear algebra method det"
   ]
  },
  {
   "cell_type": "code",
   "execution_count": 83,
   "metadata": {},
   "outputs": [
    {
     "data": {
      "text/plain": [
       "0.0"
      ]
     },
     "execution_count": 83,
     "metadata": {},
     "output_type": "execute_result"
    }
   ],
   "source": [
    "matrix = np.array([[1,2,3],[1,2,3],[2,3,4]])\n",
    "np.linalg.det(matrix)"
   ]
  },
  {
   "cell_type": "markdown",
   "metadata": {},
   "source": [
    "### 1.13. Getting the Diagonal of a Matrix\n",
    "\n",
    "#### Problem\n",
    "You need to get the diagonal elements of a matrix.\n",
    "\n",
    "#### Solution\n",
    "Use diagonal"
   ]
  },
  {
   "cell_type": "code",
   "execution_count": 85,
   "metadata": {},
   "outputs": [
    {
     "data": {
      "text/plain": [
       "array([1, 2, 4])"
      ]
     },
     "execution_count": 85,
     "metadata": {},
     "output_type": "execute_result"
    }
   ],
   "source": [
    "matrix.diagonal()"
   ]
  },
  {
   "cell_type": "markdown",
   "metadata": {},
   "source": [
    "### 1.14. Calculating the Trace of a matrix\n",
    "\n",
    "#### Problem\n",
    "You need to calculate the trace of a matrix\n",
    "\n",
    "#### Solution\n",
    "Use trace"
   ]
  },
  {
   "cell_type": "code",
   "execution_count": 87,
   "metadata": {},
   "outputs": [
    {
     "data": {
      "text/plain": [
       "7"
      ]
     },
     "execution_count": 87,
     "metadata": {},
     "output_type": "execute_result"
    }
   ],
   "source": [
    "matrix.trace()"
   ]
  },
  {
   "cell_type": "markdown",
   "metadata": {},
   "source": [
    "The trace of a matrix is the sum of the diagonal elements and is often used under the hood in machine learning methods. Given a NumPy multidimensional array, we can calculate the trace using trace. We can also return the diagonal of a matrix and calculate its sum:"
   ]
  },
  {
   "cell_type": "code",
   "execution_count": 89,
   "metadata": {},
   "outputs": [
    {
     "data": {
      "text/plain": [
       "7"
      ]
     },
     "execution_count": 89,
     "metadata": {},
     "output_type": "execute_result"
    }
   ],
   "source": [
    "sum(matrix.diagonal())"
   ]
  },
  {
   "cell_type": "markdown",
   "metadata": {},
   "source": [
    "### 1.15. Finding Eigenvalues and Eigenvectors\n",
    "\n",
    "#### Problem\n",
    "You need to find the eigenvalues and eigenvectors of a square matrix\n",
    "\n",
    "#### Solution\n",
    "Use numpy's linalg.eig"
   ]
  },
  {
   "cell_type": "code",
   "execution_count": 91,
   "metadata": {},
   "outputs": [],
   "source": [
    "matrix = np.array([[1, -1, 3],                   \n",
    "                   [1, 1, 6],                   \n",
    "                   [3, 8, 9]])\n",
    "\n",
    "eigenvalues, eigenvectors = np.linalg.eig(matrix)\n"
   ]
  },
  {
   "cell_type": "code",
   "execution_count": 92,
   "metadata": {},
   "outputs": [
    {
     "data": {
      "text/plain": [
       "array([13.55075847,  0.74003145, -3.29078992])"
      ]
     },
     "execution_count": 92,
     "metadata": {},
     "output_type": "execute_result"
    }
   ],
   "source": [
    "eigenvalues"
   ]
  },
  {
   "cell_type": "code",
   "execution_count": 93,
   "metadata": {},
   "outputs": [
    {
     "data": {
      "text/plain": [
       "array([[-0.17622017, -0.96677403, -0.53373322],\n",
       "       [-0.435951  ,  0.2053623 , -0.64324848],\n",
       "       [-0.88254925,  0.15223105,  0.54896288]])"
      ]
     },
     "execution_count": 93,
     "metadata": {},
     "output_type": "execute_result"
    }
   ],
   "source": [
    "eigenvectors"
   ]
  },
  {
   "cell_type": "markdown",
   "metadata": {},
   "source": [
    "### 1.16 Calculating Dot Products\n",
    "\n",
    "#### Problem\n",
    "You need to calculate the dot product of two vectors\n",
    "\n",
    "#### Solution\n",
    "Use Numpy's dot"
   ]
  },
  {
   "cell_type": "code",
   "execution_count": 96,
   "metadata": {},
   "outputs": [
    {
     "data": {
      "text/plain": [
       "32"
      ]
     },
     "execution_count": 96,
     "metadata": {},
     "output_type": "execute_result"
    }
   ],
   "source": [
    "vec1 = np.array([1,2,3])\n",
    "vec2 = np.array([4,5,6])\n",
    "\n",
    "np.dot(vec1, vec2)"
   ]
  },
  {
   "cell_type": "markdown",
   "metadata": {},
   "source": [
    "### 1.17. Adding and Subtracting Matrices\n",
    "\n",
    "#### Problem\n",
    "You want to add or subtract two matrices.\n",
    "\n",
    "#### Solution\n",
    "Use numpy's add and Subtract"
   ]
  },
  {
   "cell_type": "code",
   "execution_count": 98,
   "metadata": {},
   "outputs": [
    {
     "data": {
      "text/plain": [
       "array([[ 2,  4,  2],\n",
       "       [ 2,  4,  2],\n",
       "       [ 2,  4, 10]])"
      ]
     },
     "execution_count": 98,
     "metadata": {},
     "output_type": "execute_result"
    }
   ],
   "source": [
    "# Create matrix \n",
    "matrix_a = np.array([[1, 1, 1],\n",
    "                     [1, 1, 1],\n",
    "                     [1, 1, 2]])\n",
    "# Create matrix \n",
    "matrix_b = np.array([[1, 3, 1],\n",
    "                     [1, 3, 1],\n",
    "                     [1, 3, 8]])\n",
    "\n",
    "np.add(matrix_a, matrix_b)"
   ]
  },
  {
   "cell_type": "code",
   "execution_count": 99,
   "metadata": {},
   "outputs": [
    {
     "data": {
      "text/plain": [
       "array([[ 0, -2,  0],\n",
       "       [ 0, -2,  0],\n",
       "       [ 0, -2, -6]])"
      ]
     },
     "execution_count": 99,
     "metadata": {},
     "output_type": "execute_result"
    }
   ],
   "source": [
    "np.subtract(matrix_a,matrix_b)"
   ]
  },
  {
   "cell_type": "markdown",
   "metadata": {},
   "source": [
    "### 1.18. Inverting Matrix\n",
    "\n",
    "#### Problem\n",
    "You want to calculate the inverse of a square matrix\n",
    "\n",
    "#### Solution\n",
    "Use Numpy's linear algebra inv method."
   ]
  },
  {
   "cell_type": "code",
   "execution_count": 101,
   "metadata": {},
   "outputs": [
    {
     "data": {
      "text/plain": [
       "array([[-1.66666667,  1.33333333],\n",
       "       [ 0.66666667, -0.33333333]])"
      ]
     },
     "execution_count": 101,
     "metadata": {},
     "output_type": "execute_result"
    }
   ],
   "source": [
    "mat = np.array([[1,4],\n",
    "               [2,5]])\n",
    "np.linalg.inv(mat)"
   ]
  },
  {
   "cell_type": "markdown",
   "metadata": {},
   "source": [
    "### 1.19. Generating Random Values\n",
    "\n",
    "#### Problem\n",
    "You want to generate pseudorandom values.\n",
    "\n",
    "#### Solution\n",
    "Use Numpy's random"
   ]
  },
  {
   "cell_type": "code",
   "execution_count": 104,
   "metadata": {},
   "outputs": [
    {
     "data": {
      "text/plain": [
       "array([0.5488135 , 0.71518937, 0.60276338])"
      ]
     },
     "execution_count": 104,
     "metadata": {},
     "output_type": "execute_result"
    }
   ],
   "source": [
    "np.random.seed(0) #set seed\n",
    "np.random.random(3) #random floats between 0 and 1.0"
   ]
  },
  {
   "cell_type": "code",
   "execution_count": 109,
   "metadata": {},
   "outputs": [
    {
     "name": "stdout",
     "output_type": "stream",
     "text": [
      "[9 9 0]\n",
      "[-2.55298982  0.6536186   0.8644362 ]\n",
      "[-0.17585043  0.27546455 -3.95547251]\n",
      "[1.6176355  1.61209572 1.616934  ]\n"
     ]
    }
   ],
   "source": [
    "# Generate three random integers between 1 and 10 \n",
    "print(np.random.randint(0, 11, 3))\n",
    "\n",
    "#Alternatively, we can generate numbers by drawing them from a \n",
    "#distribution:\n",
    "\n",
    "# Draw three numbers from a normal distribution with mean 0.0 # and standard deviation of 1.0 \n",
    "print(np.random.normal(0.0, 1.0, 3))\n",
    "\n",
    "# Draw three numbers from a logistic distribution with mean 0.0 and scale of 1.0 \n",
    "print(np.random.logistic(0.0, 1.0, 3))\n",
    "\n",
    "# Draw three numbers greater than or equal to 1.0 and less than 2.0 \n",
    "print(np.random.uniform(1.0, 2.0, 3))\n"
   ]
  },
  {
   "cell_type": "code",
   "execution_count": null,
   "metadata": {},
   "outputs": [],
   "source": []
  }
 ],
 "metadata": {
  "hide_input": false,
  "kernelspec": {
   "display_name": "Python 3",
   "language": "python",
   "name": "python3"
  },
  "language_info": {
   "codemirror_mode": {
    "name": "ipython",
    "version": 3
   },
   "file_extension": ".py",
   "mimetype": "text/x-python",
   "name": "python",
   "nbconvert_exporter": "python",
   "pygments_lexer": "ipython3",
   "version": "3.7.7"
  }
 },
 "nbformat": 4,
 "nbformat_minor": 4
}
